{
 "cells": [
  {
   "cell_type": "code",
   "execution_count": 1,
   "metadata": {
    "collapsed": true
   },
   "outputs": [],
   "source": [
    "import pandas as pd\n",
    "import numpy as np\n",
    "import seaborn as sns\n",
    "import matplotlib.pyplot as plt\n",
    "import scipy.stats as stats\n",
    "from statsmodels.stats.multicomp import pairwise_tukeyhsd\n",
    "%matplotlib inline"
   ]
  },
  {
   "cell_type": "code",
   "execution_count": 2,
   "metadata": {
    "collapsed": true
   },
   "outputs": [],
   "source": [
    "sns.set(color_codes=True)"
   ]
  },
  {
   "cell_type": "code",
   "execution_count": 3,
   "metadata": {},
   "outputs": [
    {
     "data": {
      "text/html": [
       "<div>\n",
       "<style>\n",
       "    .dataframe thead tr:only-child th {\n",
       "        text-align: right;\n",
       "    }\n",
       "\n",
       "    .dataframe thead th {\n",
       "        text-align: left;\n",
       "    }\n",
       "\n",
       "    .dataframe tbody tr th {\n",
       "        vertical-align: top;\n",
       "    }\n",
       "</style>\n",
       "<table border=\"1\" class=\"dataframe\">\n",
       "  <thead>\n",
       "    <tr style=\"text-align: right;\">\n",
       "      <th></th>\n",
       "      <th>cntry</th>\n",
       "      <th>idno</th>\n",
       "      <th>year</th>\n",
       "      <th>tvtot</th>\n",
       "      <th>ppltrst</th>\n",
       "      <th>pplfair</th>\n",
       "      <th>pplhlp</th>\n",
       "      <th>happy</th>\n",
       "      <th>sclmeet</th>\n",
       "      <th>sclact</th>\n",
       "      <th>gndr</th>\n",
       "      <th>agea</th>\n",
       "      <th>partner</th>\n",
       "    </tr>\n",
       "  </thead>\n",
       "  <tbody>\n",
       "    <tr>\n",
       "      <th>0</th>\n",
       "      <td>CH</td>\n",
       "      <td>5.0</td>\n",
       "      <td>6</td>\n",
       "      <td>3.0</td>\n",
       "      <td>3.0</td>\n",
       "      <td>10.0</td>\n",
       "      <td>5.0</td>\n",
       "      <td>8.0</td>\n",
       "      <td>5.0</td>\n",
       "      <td>4.0</td>\n",
       "      <td>2.0</td>\n",
       "      <td>60.0</td>\n",
       "      <td>1.0</td>\n",
       "    </tr>\n",
       "    <tr>\n",
       "      <th>1</th>\n",
       "      <td>CH</td>\n",
       "      <td>25.0</td>\n",
       "      <td>6</td>\n",
       "      <td>6.0</td>\n",
       "      <td>5.0</td>\n",
       "      <td>7.0</td>\n",
       "      <td>5.0</td>\n",
       "      <td>9.0</td>\n",
       "      <td>3.0</td>\n",
       "      <td>2.0</td>\n",
       "      <td>2.0</td>\n",
       "      <td>59.0</td>\n",
       "      <td>1.0</td>\n",
       "    </tr>\n",
       "    <tr>\n",
       "      <th>2</th>\n",
       "      <td>CH</td>\n",
       "      <td>26.0</td>\n",
       "      <td>6</td>\n",
       "      <td>1.0</td>\n",
       "      <td>8.0</td>\n",
       "      <td>8.0</td>\n",
       "      <td>8.0</td>\n",
       "      <td>7.0</td>\n",
       "      <td>6.0</td>\n",
       "      <td>3.0</td>\n",
       "      <td>1.0</td>\n",
       "      <td>24.0</td>\n",
       "      <td>2.0</td>\n",
       "    </tr>\n",
       "    <tr>\n",
       "      <th>3</th>\n",
       "      <td>CH</td>\n",
       "      <td>28.0</td>\n",
       "      <td>6</td>\n",
       "      <td>4.0</td>\n",
       "      <td>6.0</td>\n",
       "      <td>6.0</td>\n",
       "      <td>7.0</td>\n",
       "      <td>10.0</td>\n",
       "      <td>6.0</td>\n",
       "      <td>2.0</td>\n",
       "      <td>2.0</td>\n",
       "      <td>64.0</td>\n",
       "      <td>1.0</td>\n",
       "    </tr>\n",
       "    <tr>\n",
       "      <th>4</th>\n",
       "      <td>CH</td>\n",
       "      <td>29.0</td>\n",
       "      <td>6</td>\n",
       "      <td>5.0</td>\n",
       "      <td>6.0</td>\n",
       "      <td>7.0</td>\n",
       "      <td>5.0</td>\n",
       "      <td>8.0</td>\n",
       "      <td>7.0</td>\n",
       "      <td>2.0</td>\n",
       "      <td>2.0</td>\n",
       "      <td>55.0</td>\n",
       "      <td>1.0</td>\n",
       "    </tr>\n",
       "  </tbody>\n",
       "</table>\n",
       "</div>"
      ],
      "text/plain": [
       "  cntry  idno  year  tvtot  ppltrst  pplfair  pplhlp  happy  sclmeet  sclact  \\\n",
       "0    CH   5.0     6    3.0      3.0     10.0     5.0    8.0      5.0     4.0   \n",
       "1    CH  25.0     6    6.0      5.0      7.0     5.0    9.0      3.0     2.0   \n",
       "2    CH  26.0     6    1.0      8.0      8.0     8.0    7.0      6.0     3.0   \n",
       "3    CH  28.0     6    4.0      6.0      6.0     7.0   10.0      6.0     2.0   \n",
       "4    CH  29.0     6    5.0      6.0      7.0     5.0    8.0      7.0     2.0   \n",
       "\n",
       "   gndr  agea  partner  \n",
       "0   2.0  60.0      1.0  \n",
       "1   2.0  59.0      1.0  \n",
       "2   1.0  24.0      2.0  \n",
       "3   2.0  64.0      1.0  \n",
       "4   2.0  55.0      1.0  "
      ]
     },
     "execution_count": 3,
     "metadata": {},
     "output_type": "execute_result"
    }
   ],
   "source": [
    "# read csv file from Thinkful github\n",
    "df = pd.read_csv('https://raw.githubusercontent.com/Thinkful-Ed/data-201-resources/master/ESS_practice_data/ESSdata_Thinkful.csv')\n",
    "df.head()"
   ]
  },
  {
   "cell_type": "markdown",
   "metadata": {},
   "source": [
    "    1.  cntry = country \n",
    "    2.  year = year                                 \n",
    "        ( 2012 = 6 , 2014 = 7 )\n",
    "    3.  idno = ID \n",
    "    4.  tvtot = average time watching TV            \n",
    "        ( 0 - 7 )     7  -> more than 3 hours\n",
    "    5.  ppltrst = most people can be trusted        \n",
    "         ( 0 - 10 )    10 -> being trusted\n",
    "    6.  pplfair = most people take advantage of you      \n",
    "         ( 0 - 10 )    10 -> being fair\n",
    "    7.  pplhlp = most people are helpful            \n",
    "        ( 0 - 10 )    10 -> being helpful\n",
    "    8.  happy = how happy are you                   \n",
    "        ( 0 - 10 )    10 -> being happy\n",
    "    9.  sclmeet = how often socially meet           \n",
    "        ( 1 - 7 )     7  -> everyday\n",
    "    10. sclact = take part in social activities     \n",
    "        ( 1 - 5 )     5  -> much more than others\n",
    "    11. gndr                                        \n",
    "        ( 1 = male , 2 = female )\n",
    "    12. agea                       \n",
    "    13. partner                                     \n",
    "        ( 1 = has partner, 2 = no partner )"
   ]
  },
  {
   "cell_type": "markdown",
   "metadata": {},
   "source": [
    "#### Alpha Value\n",
    "   For the questions in this challenge, I am setting the alpha value to be ** 0.05 **"
   ]
  },
  {
   "cell_type": "markdown",
   "metadata": {},
   "source": [
    "##### Question 1:\n",
    "    Did people become less trusting from 2012 to 2014? Compute results for each country in the sample."
   ]
  },
  {
   "cell_type": "code",
   "execution_count": 161,
   "metadata": {
    "collapsed": true
   },
   "outputs": [],
   "source": [
    "# create a new dataframe for question 1\n",
    "df_1 = pd.DataFrame()\n",
    "df_1['ppltrst_2012'] = df['ppltrst'].loc[df.year == 6].reset_index(drop = True)\n",
    "df_1['ppltrst_2014'] = df['ppltrst'].loc[df.year == 7].reset_index(drop = True)"
   ]
  },
  {
   "cell_type": "code",
   "execution_count": 162,
   "metadata": {},
   "outputs": [
    {
     "data": {
      "image/png": "[encoded data removed]",
      "text/plain": [
       "<matplotlib.figure.Figure at 0x20278c27f98>"
      ]
     },
     "metadata": {},
     "output_type": "display_data"
    }
   ],
   "source": [
    "df_1.hist(sharey=True,sharex=True)\n",
    "plt.show()"
   ]
  },
  {
   "cell_type": "code",
   "execution_count": 163,
   "metadata": {},
   "outputs": [
    {
     "name": "stdout",
     "output_type": "stream",
     "text": [
      "Rank_ppltrst_2012    4310.806144\n",
      "Rank_ppltrst_2014    4284.193856\n",
      "dtype: float64\n",
      "\n",
      "Overall Average Rank 4297.5\n"
     ]
    },
    {
     "data": {
      "text/plain": [
       "KruskalResult(statistic=0.25267827664596737, pvalue=0.61519550240557663)"
      ]
     },
     "execution_count": 163,
     "metadata": {},
     "output_type": "execute_result"
    }
   ],
   "source": [
    "# since the histograms appear to be non-normal\n",
    "\n",
    "# join two samples into a list and create ranks for them\n",
    "ranks_1 = stats.rankdata(\n",
    "    df_1['ppltrst_2012'].tolist() + \n",
    "    df_1['ppltrst_2014'].tolist())\n",
    "\n",
    "# add new ranked variable\n",
    "df_1['Rank_ppltrst_2012'] = ranks_1[0:df_1.shape[0]]\n",
    "df_1['Rank_ppltrst_2014'] = ranks_1[df_1.shape[0]:len(ranks_1)]\n",
    "\n",
    "# average rank per group\n",
    "groups = ['Rank_ppltrst_2012', 'Rank_ppltrst_2014']\n",
    "print(df_1[groups].apply(np.mean))\n",
    "\n",
    "# overall average rank.\n",
    "print('\\nOverall Average Rank', np.mean(ranks_1))\n",
    "\n",
    "# use kruskal-wallace test \n",
    "stats.kruskal(df_1['Rank_ppltrst_2012'], df_1['Rank_ppltrst_2014'])"
   ]
  },
  {
   "cell_type": "markdown",
   "metadata": {},
   "source": [
    "    Conclusion:\n",
    "   It appears that the groups do not differ significantly. The test says there is a 61.5% chance of getting our data if there were no systematic difference between the trust of people in 2012 and 2014.\n",
    "\n",
    "**___**"
   ]
  },
  {
   "cell_type": "markdown",
   "metadata": {},
   "source": [
    "##### Question 2:\n",
    "    Did people become happier from 2012 to 2014? Compute results for each country in the sample."
   ]
  },
  {
   "cell_type": "code",
   "execution_count": 158,
   "metadata": {
    "collapsed": true
   },
   "outputs": [],
   "source": [
    "# create a new dataframe for question 2\n",
    "df_2 = pd.DataFrame()\n",
    "df_2['happy_2012'] = df['happy'].loc[df.year == 6].reset_index(drop = True)\n",
    "df_2['happy_2014'] = df['happy'].loc[df.year == 7].reset_index(drop = True)"
   ]
  },
  {
   "cell_type": "code",
   "execution_count": 159,
   "metadata": {},
   "outputs": [
    {
     "data": {
      "image/png": "[encoded data removed]",
      "text/plain": [
       "<matplotlib.figure.Figure at 0x20278cd6eb8>"
      ]
     },
     "metadata": {},
     "output_type": "display_data"
    }
   ],
   "source": [
    "df_2.hist(sharey=True,sharex=True)\n",
    "plt.show()"
   ]
  },
  {
   "cell_type": "code",
   "execution_count": 160,
   "metadata": {},
   "outputs": [
    {
     "name": "stdout",
     "output_type": "stream",
     "text": [
      "Rank_happy_2012    4361.519549\n",
      "Rank_happy_2014    4233.480451\n",
      "dtype: float64\n",
      "\n",
      "Overall Average Rank 4297.5\n"
     ]
    },
    {
     "data": {
      "text/plain": [
       "KruskalResult(statistic=5.9777723056219321, pvalue=0.014487289811649167)"
      ]
     },
     "execution_count": 160,
     "metadata": {},
     "output_type": "execute_result"
    }
   ],
   "source": [
    "# same as Question 1, the histograms appear to be non-normal\n",
    "\n",
    "# join two samples into a list and create ranks for them\n",
    "ranks_2 = stats.rankdata(\n",
    "    df_2['happy_2012'].tolist() + \n",
    "    df_2['happy_2014'].tolist())\n",
    "\n",
    "# add new ranked variable\n",
    "df_2['Rank_happy_2012'] = ranks_2[0:df_2.shape[0]]\n",
    "df_2['Rank_happy_2014'] = ranks_2[df_2.shape[0]:len(ranks_2)]\n",
    "\n",
    "# average rank per group\n",
    "groups = ['Rank_happy_2012', 'Rank_happy_2014']\n",
    "print(df_2[groups].apply(np.mean))\n",
    "\n",
    "# overall average rank.\n",
    "print('\\nOverall Average Rank', np.mean(ranks_2))\n",
    "\n",
    "# use kruskal-wallace test \n",
    "stats.kruskal(df_2['Rank_happy_2012'], df_2['Rank_happy_2014'])"
   ]
  },
  {
   "cell_type": "markdown",
   "metadata": {},
   "source": [
    "    Conclusion:\n",
    "   Since the p-value is less than 0.05, it appears that the difference between the happiness between 2012 and 2014 are statistically significant.\n",
    "\n",
    "**___**"
   ]
  },
  {
   "cell_type": "markdown",
   "metadata": {},
   "source": [
    "##### Question 3:\n",
    "    Who reported watching more TV in 2012, men or women?"
   ]
  },
  {
   "cell_type": "code",
   "execution_count": 4,
   "metadata": {
    "collapsed": true
   },
   "outputs": [],
   "source": [
    "# create a temp dataframe for entries in 2012\n",
    "temp_3 = df.loc[df.year == 6].copy().reset_index(drop = True)\n",
    "\n",
    "# create a new dataframe for question 3\n",
    "df_3 = pd.DataFrame()\n",
    "df_3['TV_watched_men'] = temp_3['tvtot'].loc[temp_3.gndr == 1].reset_index(drop = True)\n",
    "df_3['TV_watched_women'] = temp_3['tvtot'].loc[temp_3.gndr == 2].reset_index(drop = True)"
   ]
  },
  {
   "cell_type": "code",
   "execution_count": 5,
   "metadata": {},
   "outputs": [
    {
     "data": {
      "image/png": "[encoded data removed]",
      "text/plain": [
       "<matplotlib.figure.Figure at 0x258cb88c2e8>"
      ]
     },
     "metadata": {},
     "output_type": "display_data"
    }
   ],
   "source": [
    "# plot qq-plot to determine normality\n",
    "def quantile_plot(x, **kwargs): \n",
    "    qntls, xr = stats.probplot(x, fit = False)\n",
    "    plt.scatter(xr, qntls, **kwargs)\n",
    "\n",
    "g = sns.FacetGrid(temp_3, col = \"gndr\", size = 4)\n",
    "g.map(quantile_plot, \"tvtot\");"
   ]
  },
  {
   "cell_type": "code",
   "execution_count": 7,
   "metadata": {},
   "outputs": [
    {
     "name": "stdout",
     "output_type": "stream",
     "text": [
      "Rank_TV_watched_men      2134.851671\n",
      "Rank_TV_watched_women    2174.148329\n",
      "dtype: float64\n",
      "\n",
      "Overall Average Rank 2154.5\n",
      "\n",
      "test statistic: 1.0977136888\n",
      "p-value: 0.294768402068\n"
     ]
    }
   ],
   "source": [
    "# the qq-plot appear to be non-normal\n",
    "\n",
    "# join two samples into a list and create ranks for them\n",
    "ranks_3 = stats.rankdata(\n",
    "    df_3['TV_watched_men'].tolist() + \n",
    "    df_3['TV_watched_women'].tolist())\n",
    "\n",
    "# add new ranked variable\n",
    "df_3['Rank_TV_watched_men'] = ranks_3[0:df_3.shape[0]]\n",
    "df_3['Rank_TV_watched_women'] = ranks_3[df_3.shape[0]:len(ranks_3)]\n",
    "\n",
    "# average rank per group\n",
    "groups = ['Rank_TV_watched_men', 'Rank_TV_watched_women']\n",
    "print(df_3[groups].apply(np.mean))\n",
    "\n",
    "# overall average rank.\n",
    "print('\\nOverall Average Rank', np.mean(ranks_3))\n",
    "\n",
    "# use kruskal-wallace test \n",
    "stat, pval = stats.kruskal(df_3['Rank_TV_watched_men'], df_3['Rank_TV_watched_women'])\n",
    "print('\\ntest statistic:', stat)\n",
    "print('p-value:', pval)"
   ]
  },
  {
   "cell_type": "markdown",
   "metadata": {},
   "source": [
    "    Conclusion:\n",
    "   After performing Kruskal-Wallace Test. I got results with small test statistics and large p-values, it seems that there are no difference between the amount of TV watched by men and women in 2012.\n",
    "\n",
    "**___**"
   ]
  },
  {
   "cell_type": "markdown",
   "metadata": {},
   "source": [
    "##### Question 4:\n",
    "    Who was more likely to believe people were fair in 2012, people living with a partner or people living alone?"
   ]
  },
  {
   "cell_type": "code",
   "execution_count": 8,
   "metadata": {
    "collapsed": true
   },
   "outputs": [],
   "source": [
    "# create a temp dataframe for entries in 2012\n",
    "temp_4 = df.loc[df.year == 6].copy().reset_index(drop = True)\n",
    "\n",
    "# create a new dataframe for question 4\n",
    "df_4 = pd.DataFrame()\n",
    "df_4['pplfair_partner'] = temp_4['pplfair'].loc[temp_4.partner == 1].reset_index(drop = True)\n",
    "df_4['pplfair_no_partner'] = temp_4['pplfair'].loc[temp_4.partner == 2].reset_index(drop = True)"
   ]
  },
  {
   "cell_type": "code",
   "execution_count": 9,
   "metadata": {},
   "outputs": [
    {
     "data": {
      "image/png": "[encoded data removed]",
      "text/plain": [
       "<matplotlib.figure.Figure at 0x258ca843ef0>"
      ]
     },
     "metadata": {},
     "output_type": "display_data"
    }
   ],
   "source": [
    "g = sns.FacetGrid(temp_4, col = \"partner\", size = 4)\n",
    "g.map(quantile_plot, \"tvtot\");"
   ]
  },
  {
   "cell_type": "code",
   "execution_count": 10,
   "metadata": {},
   "outputs": [
    {
     "name": "stdout",
     "output_type": "stream",
     "text": [
      "Rank_pplfair_partner       2201.164734\n",
      "Rank_pplfair_no_partner    3147.835266\n",
      "dtype: float64\n",
      "\n",
      "Overall Average Rank 2674.5\n",
      "\n",
      "test statistic: 509.416276704\n",
      "p-value: 8.49603477093e-113\n"
     ]
    }
   ],
   "source": [
    "# same as question 4, the qq-plot appear to be non-normal\n",
    "\n",
    "# join two samples into a list and create ranks for them\n",
    "ranks_4 = stats.rankdata(\n",
    "    df_4['pplfair_partner'].tolist() + \n",
    "    df_4['pplfair_no_partner'].tolist())\n",
    "\n",
    "# add new ranked variable\n",
    "df_4['Rank_pplfair_partner'] = ranks_4[0:df_4.shape[0]]\n",
    "df_4['Rank_pplfair_no_partner'] = ranks_4[df_4.shape[0]:len(ranks_4)]\n",
    "\n",
    "# average rank per group\n",
    "groups = ['Rank_pplfair_partner', 'Rank_pplfair_no_partner']\n",
    "print(df_4[groups].apply(np.mean))\n",
    "\n",
    "# overall average rank.\n",
    "print('\\nOverall Average Rank', np.mean(ranks_4))\n",
    "\n",
    "# use kruskal-wallace test \n",
    "stat, pval = stats.kruskal(df_4['Rank_pplfair_partner'], df_4['Rank_pplfair_no_partner'])\n",
    "print('\\ntest statistic:', stat)\n",
    "print('p-value:', pval)"
   ]
  },
  {
   "cell_type": "markdown",
   "metadata": {},
   "source": [
    "    Conclusion:\n",
    "   I got results with large test statistics and small p-values, it seems that there is a huge difference between the fairness of couples and singles in 2012.\n",
    "**___**"
   ]
  },
  {
   "cell_type": "markdown",
   "metadata": {},
   "source": [
    "##### Question 5:\n",
    "    Pick three or four of the countries in the sample and compare how often people met socially in 2014. Are there differences, and if so, which countries stand out?"
   ]
  },
  {
   "cell_type": "code",
   "execution_count": 11,
   "metadata": {
    "collapsed": true
   },
   "outputs": [],
   "source": [
    "# create a temp dataframe for data entries in 2014\n",
    "temp_5 = df.loc[\n",
    "    ((df['cntry'] == 'CH') | (df['cntry'] == 'CZ') | \n",
    "    (df['cntry'] == 'DE') | (df['cntry'] == 'ES')) & \n",
    "    (df['year'] == 7)].reset_index(drop = True)\n",
    "\n",
    "# create a new dataframe for question 5\n",
    "df_5 = pd.DataFrame()\n",
    "\n",
    "# want the country with most entries to be first, so all the rows will be accounted for\n",
    "# [0] is to get rid of the double bracket in the array\n",
    "countries = np.asarray(temp_5.groupby('cntry').count().sort_values(by = ['year'], ascending = False)['year'].axes[0])\n",
    "\n",
    "for cn in countries:\n",
    "    df_5['{}_sclmeet'.format(cn)] = temp_5['sclmeet'].loc[temp_5.cntry == cn].reset_index(drop = True)"
   ]
  },
  {
   "cell_type": "code",
   "execution_count": 13,
   "metadata": {},
   "outputs": [
    {
     "data": {
      "text/html": [
       "<div>\n",
       "<style>\n",
       "    .dataframe thead tr:only-child th {\n",
       "        text-align: right;\n",
       "    }\n",
       "\n",
       "    .dataframe thead th {\n",
       "        text-align: left;\n",
       "    }\n",
       "\n",
       "    .dataframe tbody tr th {\n",
       "        vertical-align: top;\n",
       "    }\n",
       "</style>\n",
       "<table border=\"1\" class=\"dataframe\">\n",
       "  <thead>\n",
       "    <tr style=\"text-align: right;\">\n",
       "      <th></th>\n",
       "      <th>ES_sclmeet</th>\n",
       "      <th>CH_sclmeet</th>\n",
       "      <th>CZ_sclmeet</th>\n",
       "      <th>DE_sclmeet</th>\n",
       "    </tr>\n",
       "  </thead>\n",
       "  <tbody>\n",
       "    <tr>\n",
       "      <th>0</th>\n",
       "      <td>7.0</td>\n",
       "      <td>6.0</td>\n",
       "      <td>4.0</td>\n",
       "      <td>4.0</td>\n",
       "    </tr>\n",
       "    <tr>\n",
       "      <th>1</th>\n",
       "      <td>2.0</td>\n",
       "      <td>5.0</td>\n",
       "      <td>5.0</td>\n",
       "      <td>4.0</td>\n",
       "    </tr>\n",
       "    <tr>\n",
       "      <th>2</th>\n",
       "      <td>7.0</td>\n",
       "      <td>7.0</td>\n",
       "      <td>4.0</td>\n",
       "      <td>6.0</td>\n",
       "    </tr>\n",
       "    <tr>\n",
       "      <th>3</th>\n",
       "      <td>7.0</td>\n",
       "      <td>6.0</td>\n",
       "      <td>4.0</td>\n",
       "      <td>4.0</td>\n",
       "    </tr>\n",
       "    <tr>\n",
       "      <th>4</th>\n",
       "      <td>7.0</td>\n",
       "      <td>6.0</td>\n",
       "      <td>5.0</td>\n",
       "      <td>4.0</td>\n",
       "    </tr>\n",
       "  </tbody>\n",
       "</table>\n",
       "</div>"
      ],
      "text/plain": [
       "   ES_sclmeet  CH_sclmeet  CZ_sclmeet  DE_sclmeet\n",
       "0         7.0         6.0         4.0         4.0\n",
       "1         2.0         5.0         5.0         4.0\n",
       "2         7.0         7.0         4.0         6.0\n",
       "3         7.0         6.0         4.0         4.0\n",
       "4         7.0         6.0         5.0         4.0"
      ]
     },
     "execution_count": 13,
     "metadata": {},
     "output_type": "execute_result"
    }
   ],
   "source": [
    "df_5.head()"
   ]
  },
  {
   "cell_type": "code",
   "execution_count": 364,
   "metadata": {},
   "outputs": [
    {
     "data": {
      "image/png": "[encoded data removed]",
      "text/plain": [
       "<matplotlib.figure.Figure at 0x20279c90358>"
      ]
     },
     "metadata": {},
     "output_type": "display_data"
    }
   ],
   "source": [
    "g = sns.FacetGrid(temp_5, col = \"cntry\", size = 4)\n",
    "g.map(quantile_plot, \"sclmeet\");"
   ]
  },
  {
   "cell_type": "code",
   "execution_count": 390,
   "metadata": {},
   "outputs": [
    {
     "data": {
      "text/html": [
       "<table class=\"simpletable\">\n",
       "<caption>Multiple Comparison of Means - Tukey HSD,FWER=0.05</caption>\n",
       "<tr>\n",
       "  <th>group1</th> <th>group2</th> <th>meandiff</th>    <th>lower</th>     <th>upper</th>   <th>reject</th>\n",
       "</tr>\n",
       "<tr>\n",
       "    <td>CH</td>     <td>CZ</td>   <td>-353.4578</td> <td>-452.6788</td> <td>-254.2367</td>  <td>True</td> \n",
       "</tr>\n",
       "<tr>\n",
       "    <td>CH</td>     <td>DE</td>   <td>-482.4578</td> <td>-986.9104</td>  <td>21.9948</td>   <td>False</td>\n",
       "</tr>\n",
       "<tr>\n",
       "    <td>CH</td>     <td>ES</td>    <td>78.5988</td>   <td>-7.4919</td>  <td>164.6895</td>   <td>False</td>\n",
       "</tr>\n",
       "<tr>\n",
       "    <td>CZ</td>     <td>DE</td>    <td>-129.0</td>   <td>-634.2362</td> <td>376.2362</td>   <td>False</td>\n",
       "</tr>\n",
       "<tr>\n",
       "    <td>CZ</td>     <td>ES</td>   <td>432.0565</td>  <td>341.4874</td>  <td>522.6257</td>   <td>True</td> \n",
       "</tr>\n",
       "<tr>\n",
       "    <td>DE</td>     <td>ES</td>   <td>561.0565</td>   <td>58.2341</td>  <td>1063.879</td>   <td>True</td> \n",
       "</tr>\n",
       "</table>"
      ],
      "text/plain": [
       "<class 'statsmodels.iolib.table.SimpleTable'>"
      ]
     },
     "execution_count": 390,
     "metadata": {},
     "output_type": "execute_result"
    }
   ],
   "source": [
    "# number of rows from df_5 that are not null\n",
    "dat_5 = list(temp_5.groupby('cntry').count().sort_values(by = ['year'], ascending = False)['year'])\n",
    "\n",
    "# join samples into a list and create ranks for them\n",
    "ranks_5 = stats.rankdata(\n",
    "    df_5['ES_sclmeet'][:dat_5[0]].tolist() + df_5['CH_sclmeet'][:dat_5[1]].tolist() +\n",
    "    df_5['CZ_sclmeet'][:dat_5[2]].tolist() + df_5['DE_sclmeet'][:dat_5[3]].tolist())\n",
    "\n",
    "# declare the 4 groups of countries\n",
    "nation = []\n",
    "for i, v in enumerate(countries):\n",
    "    nation.append(np.repeat(v, dat_5[i]))\n",
    "\n",
    "# join the arrays\n",
    "nation = np.concatenate(nation)\n",
    "\n",
    "# use pairwise turkey for multiple comparision \n",
    "tukey_5 = pairwise_tukeyhsd(endog = ranks_5,      # Data\n",
    "                            groups = nation,   # Groups\n",
    "                            alpha = 0.05)         # Significance level\n",
    "\n",
    "tukey_5.summary()  "
   ]
  },
  {
   "cell_type": "markdown",
   "metadata": {},
   "source": [
    "#### For multiple testing/comparison, does tukey work for both parametric and non-parametric"
   ]
  },
  {
   "cell_type": "markdown",
   "metadata": {},
   "source": [
    "    Conclusion:\n",
    "\n",
    "**___**"
   ]
  },
  {
   "cell_type": "markdown",
   "metadata": {},
   "source": [
    "##### Question 6:\n",
    "    Pick three or four of the countries in the sample and compare how often people took part in social activities, relative to others their age, in 2014. Are there differences, and if so, which countries stand out?"
   ]
  },
  {
   "cell_type": "markdown",
   "metadata": {},
   "source": [
    "    Conclusion:\n",
    "\n",
    "**___**"
   ]
  },
  {
   "cell_type": "code",
   "execution_count": null,
   "metadata": {
    "collapsed": true
   },
   "outputs": [],
   "source": []
  }
 ],
 "metadata": {
  "kernelspec": {
   "display_name": "Python 3",
   "language": "python",
   "name": "python3"
  },
  "language_info": {
   "codemirror_mode": {
    "name": "ipython",
    "version": 3
   },
   "file_extension": ".py",
   "mimetype": "text/x-python",
   "name": "python",
   "nbconvert_exporter": "python",
   "pygments_lexer": "ipython3",
   "version": "3.6.1"
  }
 },
 "nbformat": 4,
 "nbformat_minor": 2
}
